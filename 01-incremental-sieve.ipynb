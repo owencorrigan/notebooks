{
 "cells": [
  {
   "cell_type": "code",
   "execution_count": null,
   "metadata": {},
   "outputs": [],
   "source": [
    "from itertools import accumulate, count, cycle, islice, takewhile, tee\n",
    "import math\n",
    "\n",
    "from heapq import heappush, heappop, heapreplace\n",
    "def heapmin(heap):\n",
    "    return heap[0]"
   ]
  },
  {
   "cell_type": "code",
   "execution_count": null,
   "metadata": {},
   "outputs": [],
   "source": [
    "# imports not used in article\n",
    "from itertools import zip_longest\n",
    "from tqdm.notebook import tqdm\n",
    "from IPython.display import Image"
   ]
  },
  {
   "cell_type": "markdown",
   "metadata": {},
   "source": [
    "# The Easy, Slow Way"
   ]
  },
  {
   "cell_type": "code",
   "execution_count": null,
   "metadata": {},
   "outputs": [],
   "source": [
    "def is_prime(n):\n",
    "    \"\"\"Check if number is prime by testing all numbers to sqrt(n)\n",
    "    \"\"\"\n",
    "    assert n > 0, 'only integers > 0'\n",
    "    if n == 1:\n",
    "        return False\n",
    "    for i in range(2, math.floor(math.sqrt(n)) + 1):\n",
    "        if n % i == 0:\n",
    "            return False\n",
    "    return True"
   ]
  },
  {
   "cell_type": "code",
   "execution_count": null,
   "metadata": {},
   "outputs": [],
   "source": [
    "def primes_brute1(n):\n",
    "    \"\"\"Generator which yields primes up to n\n",
    "    \"\"\"\n",
    "    return (i for i in range(2, n) if is_prime(i))\n",
    "\n",
    "primes100 = list(primes_brute1(100))\n",
    "print(primes100)"
   ]
  },
  {
   "cell_type": "code",
   "execution_count": null,
   "metadata": {},
   "outputs": [],
   "source": [
    "def primes_brute2():\n",
    "    \"\"\"Generator which yields all primes\n",
    "    \"\"\"\n",
    "    return (i for i in count(1) if is_prime(i))"
   ]
  },
  {
   "cell_type": "code",
   "execution_count": null,
   "metadata": {},
   "outputs": [],
   "source": [
    "assert list(takewhile(lambda x: x<100, primes_brute2())) == primes100"
   ]
  },
  {
   "cell_type": "code",
   "execution_count": null,
   "metadata": {},
   "outputs": [],
   "source": [
    "def last(s):\n",
    "    \"\"\"Get last element of sequence\n",
    "    \"\"\"\n",
    "    for last in s:\n",
    "        pass\n",
    "    return last"
   ]
  },
  {
   "cell_type": "code",
   "execution_count": null,
   "metadata": {},
   "outputs": [],
   "source": [
    "%%time\n",
    "last(takewhile(lambda x: x<int(1e7), primes_brute2()))"
   ]
  },
  {
   "cell_type": "markdown",
   "metadata": {},
   "source": [
    "# Primes Sieve"
   ]
  },
  {
   "cell_type": "code",
   "execution_count": null,
   "metadata": {},
   "outputs": [],
   "source": [
    "def primes_sieve1(n):\n",
    "    \"\"\"Primes using sieve of erasthenes\n",
    "    Generate all primes less than n\n",
    "    \"\"\"\n",
    "    n = int(n)\n",
    "    prime_sieve = [True] * n\n",
    "    for i in range(2, math.ceil(math.sqrt(n))):\n",
    "        for j in range(i*i, n, i):\n",
    "            prime_sieve[j] = False\n",
    "    return [\n",
    "        idx for idx, is_prime \n",
    "        in enumerate(prime_sieve) \n",
    "        if is_prime and idx>1\n",
    "    ]\n",
    "print(primes_sieve1(100))"
   ]
  },
  {
   "cell_type": "code",
   "execution_count": null,
   "metadata": {},
   "outputs": [],
   "source": [
    "assert primes_sieve1(100) == primes100"
   ]
  },
  {
   "cell_type": "code",
   "execution_count": null,
   "metadata": {},
   "outputs": [],
   "source": [
    "%%time\n",
    "primes_sieve1(1e7)\n",
    "None"
   ]
  },
  {
   "cell_type": "markdown",
   "metadata": {},
   "source": [
    "# Incremental Sieve"
   ]
  },
  {
   "cell_type": "code",
   "execution_count": null,
   "metadata": {},
   "outputs": [],
   "source": [
    "def primes_sieve2():\n",
    "    \"\"\"Incremental Sieve of Erasthenes\n",
    "    \"\"\"\n",
    "    yield 2\n",
    "    pqueue = [(4, 2)]\n",
    "    for i in count(3):\n",
    "        while i > heapmin(pqueue)[0]:\n",
    "            np, p = heappop(pqueue)\n",
    "            heappush(pqueue, (np + p, p))\n",
    "        if i != heapmin(pqueue)[0]:\n",
    "            yield i\n",
    "            heappush(pqueue, (i*i, i))"
   ]
  },
  {
   "cell_type": "code",
   "execution_count": null,
   "metadata": {},
   "outputs": [],
   "source": [
    "assert list(takewhile(lambda x: x<100, primes_sieve2()))==primes100"
   ]
  },
  {
   "cell_type": "code",
   "execution_count": null,
   "metadata": {},
   "outputs": [],
   "source": [
    "%%time\n",
    "last(takewhile(lambda x: x<int(1e7), primes_sieve2()))"
   ]
  },
  {
   "cell_type": "markdown",
   "metadata": {},
   "source": [
    "# Incremental Sieve Plot"
   ]
  },
  {
   "cell_type": "code",
   "execution_count": null,
   "metadata": {},
   "outputs": [],
   "source": [
    "import os\n",
    "import numpy as np\n",
    "import matplotlib.pyplot as plt\n",
    "import matplotlib.patches as patches\n",
    "import matplotlib.collections as coll\n",
    "from pathlib import Path\n",
    "\n",
    "# https://stackoverflow.com/questions/44417945/creating-a-grid-of-squares-patches-in-matplotlib\n",
    "class NumberGrid:\n",
    "    def __init__(self):     \n",
    "        self.squares = []\n",
    "        self.saves = 0\n",
    "\n",
    "        self.fig = plt.figure(figsize=(8, 8))\n",
    "        self.ax = plt.Axes(self.fig, [0., 0., 1., 1.])\n",
    "        \n",
    "        self.text = None\n",
    "\n",
    "        w, h = 1, 1\n",
    "        nrows, ncols = 12, 10\n",
    "        inbetween = 0.1\n",
    "\n",
    "        self.ax.set_axis_off()\n",
    "        self.fig.add_axes(self.ax)\n",
    "\n",
    "        xx = np.arange(0, ncols+1, (w+inbetween))\n",
    "        yy = np.arange(0, nrows+1, (h+inbetween))\n",
    "\n",
    "        pat = []\n",
    "        idx = nrows * ncols\n",
    "        for yi in yy:\n",
    "            for xi in xx[::-1]:\n",
    "                sq = patches.Rectangle((xi, yi), w, h, fill=True, color='lightgrey')\n",
    "                self.ax.add_patch(sq)\n",
    "                self.squares.append(sq)\n",
    "                x, y = xi + w / 2, yi + h / 2\n",
    "                if idx != 1:\n",
    "                    self.ax.annotate(idx, (x, y), fontsize=16, weight='bold', va='center', ha='center')\n",
    "                idx-=1 \n",
    "        self.squares.reverse()\n",
    "\n",
    "        pc = coll.PatchCollection(pat)\n",
    "        self.ax.add_collection(pc)\n",
    "\n",
    "        plt.axis('off')\n",
    "        self.ax.autoscale_view()\n",
    "        \n",
    "        self.squares[0].set_visible(False)\n",
    "        \n",
    "        self.highlight = patches.Rectangle((0, 0), 1, 1, fill=False, color='black', linewidth=2.5)\n",
    "        self.highlight.set_visible(False)\n",
    "        self.ax.add_patch(self.highlight)\n",
    "\n",
    "    def set_color(self, idx, color):\n",
    "        # fail quietly if out of range\n",
    "        if (idx-1) < len(self.squares):\n",
    "            self.squares[idx-1].set_facecolor(color)\n",
    "        \n",
    "    def annotate(self, s):\n",
    "        if not self.text:\n",
    "            self.text = self.ax.annotate(s, (11, 13), fontsize=16, va='top', family='monospace')\n",
    "        else:\n",
    "            self.text.set_text(s)\n",
    "\n",
    "    def save(self):\n",
    "        plt.savefig(f'image{self.saves:03d}.png',\n",
    "                    dpi=90, cmap='RGB', bbox_inches='tight')\n",
    "        self.saves += 1\n",
    "    \n",
    "    def rm(self):\n",
    "        for i in Path('.').glob('image*.png'):\n",
    "            os.remove(i)\n",
    "    \n",
    "    def set_highlight(self, i):\n",
    "        i, j = (i-1) % 10, 11 - ((i-1)//10)\n",
    "        i, j = i*1.1, j*1.1\n",
    "        self.highlight.set_visible(True)\n",
    "        self.highlight.set_xy((i, j))\n",
    "    \n",
    "    def animate(self, fname):\n",
    "        cmd1 = 'ffmpeg -i image%03d.png -vf palettegen palette.png -y'\n",
    "        cmd2 = f'ffmpeg -r 2/1 -i image%03d.png  -i palette.png -lavfi paletteuse {fname} -y'\n",
    "        assert os.system(cmd1) == 0\n",
    "        assert os.system(cmd2) == 0"
   ]
  },
  {
   "cell_type": "code",
   "execution_count": null,
   "metadata": {},
   "outputs": [],
   "source": [
    "grid = NumberGrid()\n",
    "grid.set_highlight(15)\n",
    "grid.annotate('testing')"
   ]
  },
  {
   "cell_type": "code",
   "execution_count": null,
   "metadata": {},
   "outputs": [],
   "source": [
    "def grouper(iterable, n, fillvalue=None):\n",
    "    \"Collect data into fixed-length chunks or blocks\"\n",
    "    # grouper('ABCDEFG', 3, 'x') --> ABC DEF Gxx\n",
    "    args = [iter(iterable)] * n\n",
    "    return zip_longest(fillvalue=fillvalue, *args)\n",
    "\n",
    "def fmt_primes(primes, columns=4, rows=8):\n",
    "    if primes == []:\n",
    "        primes = [' ']\n",
    "    primes_str = grouper(primes, columns, '')\n",
    "    primes_str = '\\n'.join([\n",
    "        ' '.join([str(i).ljust(4) for i in primes])\n",
    "        for primes\n",
    "        in primes_str\n",
    "    ])\n",
    "    return  'primes:\\n' + primes_str\n",
    "\n",
    "print(fmt_primes([1, 2, 3, 4, 5]))"
   ]
  },
  {
   "cell_type": "code",
   "execution_count": null,
   "metadata": {},
   "outputs": [],
   "source": [
    "colors = {\n",
    "    2: 'lightcoral',\n",
    "    3: 'lightgreen',\n",
    "    5: 'lightblue',\n",
    "    7: 'lightyellow'\n",
    "}\n",
    "\n",
    "colors1 = {\n",
    "    2: 'red',\n",
    "    3: 'green',\n",
    "    5: 'blue',\n",
    "    7: 'yellow'\n",
    "}\n",
    "\n",
    "idx_color = 'white'"
   ]
  },
  {
   "cell_type": "code",
   "execution_count": null,
   "metadata": {},
   "outputs": [],
   "source": [
    "grid = NumberGrid()\n",
    "grid.rm()\n",
    "\n",
    "queue = [(4, 2)]\n",
    "primes = [2]\n",
    "\n",
    "grid.set_highlight(2)\n",
    "grid.annotate(fmt_primes(primes))\n",
    "grid.save()\n",
    "\n",
    "grid.set_color(2, colors1.get(2))\n",
    "grid.set_color(4, colors.get(2))\n",
    "\n",
    "grid.annotate(fmt_primes(primes))\n",
    "grid.save()\n",
    "grid.set_color(2, colors1.get(2))\n",
    "\n",
    "for i in tqdm(range(3, 121)):\n",
    "    grid.set_highlight(i)\n",
    "    grid.annotate(fmt_primes(primes))\n",
    "    grid.save()\n",
    "    while i > heapmin(queue)[0]:\n",
    "        np_, p = heappop(queue)\n",
    "        heappush(queue, (np_ + p, p))\n",
    "        if i > heapmin(queue)[0]:\n",
    "            grid.set_color(np_, colors.get(heapmin(queue)[1]))\n",
    "        else:\n",
    "            grid.set_color(np_, 'lightgrey')\n",
    "        grid.set_color(np_ + p, colors.get(p, 'purple'))\n",
    "        grid.annotate(fmt_primes(primes))\n",
    "        grid.save()\n",
    "    if i != heapmin(queue)[0]:\n",
    "        primes.append(i)\n",
    "        heappush(queue, (i*i, i))\n",
    "        grid.annotate(fmt_primes(primes))\n",
    "        if i*i <= 121:\n",
    "            grid.set_color(i*i, colors.get(i, 'purple'))\n",
    "        grid.set_color(i, colors1.get(i, 'purple'))\n",
    "        grid.annotate(fmt_primes(primes))\n",
    "        grid.save()\n",
    "    elif i in [i[0] for i in queue]:\n",
    "        grid.set_color(i, colors.get(heapmin(queue)[1], 'black'))\n",
    "    else:\n",
    "        grid.set_color(i, 'lightgrey')"
   ]
  },
  {
   "cell_type": "code",
   "execution_count": null,
   "metadata": {},
   "outputs": [],
   "source": [
    "grid.animate('animated.gif')\n",
    "Image(filename=\"animated.gif\")"
   ]
  },
  {
   "cell_type": "markdown",
   "metadata": {},
   "source": [
    "# Wheels"
   ]
  },
  {
   "cell_type": "code",
   "execution_count": null,
   "metadata": {},
   "outputs": [],
   "source": [
    "def wheel23():\n",
    "    \"\"\"Wheel generates numbers coprime to 2 and 3\n",
    "    \"\"\"\n",
    "    yield from accumulate(cycle([2, 4]), initial=1)\n",
    "\n",
    "list(islice(wheel23(), 10))"
   ]
  },
  {
   "cell_type": "code",
   "execution_count": null,
   "metadata": {},
   "outputs": [],
   "source": [
    "# https://docs.python.org/3/library/itertools.html\n",
    "def pairwise(iterable):\n",
    "    \"\"\"s -> (s0,s1), (s1,s2), (s2, s3), ...\n",
    "    \"\"\"\n",
    "    a, b = tee(iterable)\n",
    "    next(b, None)\n",
    "    return zip(a, b)"
   ]
  },
  {
   "cell_type": "code",
   "execution_count": null,
   "metadata": {},
   "outputs": [],
   "source": [
    "def coprime(a, b):\n",
    "    \"\"\"Check if a and be have any factors in common other than 1\n",
    "    \"\"\"\n",
    "    return math.gcd(a, b) == 1\n",
    "\n",
    "assert not coprime(10, 5)\n",
    "assert coprime(7, 22)\n",
    "assert not coprime(3, 6)"
   ]
  },
  {
   "cell_type": "code",
   "execution_count": null,
   "metadata": {},
   "outputs": [],
   "source": [
    "def wheel(n):\n",
    "    \"\"\"Generate wheel coprime to first n primes\n",
    "    Returns tuple of primes, then iterator of wheel\n",
    "    \"\"\"\n",
    "    assert n > 1\n",
    "    initial_primes = list(islice(primes_brute2(), n))\n",
    "    n = math.prod(initial_primes)\n",
    "    coprimes = [i for i in range(1, n+1) if coprime(i, n)]\n",
    "    diffs = [\n",
    "        (b - a)\n",
    "        for a, b\n",
    "        in pairwise(coprimes)\n",
    "    ]\n",
    "    diffs.append((coprimes[0] - coprimes[-1]) % n)\n",
    "    coprimes = accumulate(cycle(diffs), initial=1)\n",
    "    # skip 1\n",
    "    next(coprimes)\n",
    "    return (\n",
    "        initial_primes,\n",
    "        coprimes\n",
    "    )"
   ]
  },
  {
   "cell_type": "code",
   "execution_count": null,
   "metadata": {},
   "outputs": [],
   "source": [
    "first_primes, wheel23 = wheel(2)\n",
    "print(first_primes)\n",
    "seq = [5, 7, 11, 13, 17, 19, 23, 25, 29, 31]\n",
    "assert list(islice(wheel23, 10)) == seq"
   ]
  },
  {
   "cell_type": "code",
   "execution_count": null,
   "metadata": {},
   "outputs": [],
   "source": [
    "first_primes, wheel235 = wheel(3)\n",
    "print(first_primes)\n",
    "first_rotation = [7, 11, 13, 17, 19, 23, 29, 31, 37, 41]\n",
    "print(first_rotation)\n",
    "assert list(islice(wheel235, 10)) == first_rotation"
   ]
  },
  {
   "cell_type": "code",
   "execution_count": null,
   "metadata": {},
   "outputs": [],
   "source": [
    "import numpy as np\n",
    "import pandas as pd"
   ]
  },
  {
   "cell_type": "code",
   "execution_count": null,
   "metadata": {},
   "outputs": [],
   "source": [
    "def wheel_stats(n):\n",
    "    initial_primes = list(islice(primes_brute2(), n))\n",
    "    n = math.prod(initial_primes)\n",
    "    coprimes = [coprime(i, n) for i in range(1, n+1)]\n",
    "    coprimes = np.array(coprimes) * 1\n",
    "    return len(initial_primes), coprimes.mean(), coprimes.size\n",
    "\n",
    "wheel_stats(1)"
   ]
  },
  {
   "cell_type": "code",
   "execution_count": null,
   "metadata": {},
   "outputs": [],
   "source": [
    "%%time\n",
    "res = []\n",
    "for i in range(1, 10):\n",
    "    res.append(wheel_stats(i))"
   ]
  },
  {
   "cell_type": "code",
   "execution_count": null,
   "metadata": {},
   "outputs": [],
   "source": [
    "res = pd.DataFrame(res, columns=['primes', 'speed up', 'array size'])\n",
    "res['array size'] = res['array size'].apply(lambda x: '{:,}'.format(x))\n",
    "res['speed up'] = (1 / res['saving']).apply(lambda x: f'{x:.2f}x')\n",
    "print(res[['primes', 'speed up', 'array size']].to_html(index=False))"
   ]
  },
  {
   "cell_type": "markdown",
   "metadata": {},
   "source": [
    "# Incremental + Sieve"
   ]
  },
  {
   "cell_type": "code",
   "execution_count": null,
   "metadata": {},
   "outputs": [],
   "source": [
    "def primes_sieve3(wheel_size):\n",
    "    \"\"\"Incremental Sieve of Erasthenes, using wheel\n",
    "    \"\"\"\n",
    "    first_primes, wheel_ = wheel(wheel_size)\n",
    "    yield from first_primes\n",
    "    \n",
    "    p = next(wheel_)\n",
    "    yield p\n",
    "    pqueue = [(p*p, p)]\n",
    "\n",
    "    for i in wheel_:\n",
    "        while i > heapmin(pqueue)[0]:\n",
    "            np, p = heappop(pqueue)\n",
    "            heappush(pqueue, (np + p, p))\n",
    "        if i != heapmin(pqueue)[0]:\n",
    "            yield i\n",
    "            heappush(pqueue, (i*i, i))"
   ]
  },
  {
   "cell_type": "code",
   "execution_count": null,
   "metadata": {},
   "outputs": [],
   "source": [
    "assert list(takewhile(lambda x: x<100, primes_sieve3(3))) == primes100"
   ]
  },
  {
   "cell_type": "code",
   "execution_count": null,
   "metadata": {},
   "outputs": [],
   "source": [
    "%%time\n",
    "last(takewhile(lambda x: x<int(1e7), primes_sieve3(7)))"
   ]
  },
  {
   "cell_type": "code",
   "execution_count": null,
   "metadata": {},
   "outputs": [],
   "source": [
    "grid = NumberGrid()\n",
    "grid.rm()\n",
    "\n",
    "primes = [3, 5, 7]\n",
    "grid.annotate(fmt_primes(primes))\n",
    "grid.save()\n",
    "for i in range(121):\n",
    "    if i not in (wheel_ + first_primes):\n",
    "        grid.set_color(i, 'darkgrey')\n",
    "grid.save()\n",
    "\n",
    "for i in wheel_:\n",
    "    grid.set_highlight(i)\n",
    "    grid.save()\n",
    "    while i > heapmin(queue)[0]:\n",
    "        np_, p = heappop(queue)\n",
    "        heappush(queue, (np_ + p, p))\n",
    "        grid.set_color(np_+p, colors.get(p, 'black'))\n",
    "    if i != heapmin(queue)[0]:\n",
    "        primes.append(i)\n",
    "        heappush(queue, (i*i, i))\n",
    "        grid.annotate(fmt_primes(primes))\n",
    "        grid.set_color(i, colors1.get(i, 'purple'))\n",
    "        grid.set_color(i*i, colors.get(i, 'black'))"
   ]
  },
  {
   "cell_type": "code",
   "execution_count": null,
   "metadata": {},
   "outputs": [],
   "source": [
    "grid.animate('prime-sieve-wheel.gif')\n",
    "Image(filename=\"prime-sieve-wheel.gif.gif\")"
   ]
  }
 ],
 "metadata": {
  "kernelspec": {
   "display_name": "blog-3.8.0",
   "language": "python",
   "name": "blog-3.8.0"
  },
  "language_info": {
   "codemirror_mode": {
    "name": "ipython",
    "version": 3
   },
   "file_extension": ".py",
   "mimetype": "text/x-python",
   "name": "python",
   "nbconvert_exporter": "python",
   "pygments_lexer": "ipython3",
   "version": "3.8.0"
  }
 },
 "nbformat": 4,
 "nbformat_minor": 4
}
